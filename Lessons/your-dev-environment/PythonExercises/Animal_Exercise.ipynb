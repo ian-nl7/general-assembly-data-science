{
 "cells": [
  {
   "cell_type": "code",
   "execution_count": 1,
   "metadata": {
    "ExecuteTime": {
     "end_time": "2019-01-09T23:23:34.506509Z",
     "start_time": "2019-01-09T23:23:34.502500Z"
    }
   },
   "outputs": [],
   "source": [
    "#Create a list of animals\n",
    "animals = [\"aardvark\", \"turtle\", \"cat\", \"dog\", \"gerbil\"]"
   ]
  },
  {
   "cell_type": "code",
   "execution_count": 2,
   "metadata": {
    "ExecuteTime": {
     "end_time": "2019-01-09T23:23:34.522611Z",
     "start_time": "2019-01-09T23:23:34.510520Z"
    }
   },
   "outputs": [
    {
     "name": "stdout",
     "output_type": "stream",
     "text": [
      "aardvark\n",
      "turtle\n",
      "cat\n",
      "dog\n",
      "gerbil\n"
     ]
    }
   ],
   "source": [
    "#Write a for loop that passes each object in the list to the print function\n",
    "for x in animals:\n",
    "    print(x)"
   ]
  },
  {
   "cell_type": "code",
   "execution_count": 3,
   "metadata": {
    "ExecuteTime": {
     "end_time": "2019-01-09T23:23:34.532232Z",
     "start_time": "2019-01-09T23:23:34.526232Z"
    }
   },
   "outputs": [
    {
     "name": "stdout",
     "output_type": "stream",
     "text": [
      "AARDVARK\n",
      "TURTLE\n",
      "CAT\n",
      "DOG\n",
      "GERBIL\n"
     ]
    }
   ],
   "source": [
    "'''\n",
    "Write a for loop that transforms each object into all capital letters \n",
    "and then passes it to print\n",
    "'''\n",
    "for x in animals:\n",
    "    print(x.upper())\n",
    "\n"
   ]
  },
  {
   "cell_type": "code",
   "execution_count": 4,
   "metadata": {
    "ExecuteTime": {
     "end_time": "2019-01-09T23:23:34.541109Z",
     "start_time": "2019-01-09T23:23:34.535592Z"
    }
   },
   "outputs": [
    {
     "name": "stdout",
     "output_type": "stream",
     "text": [
      "aardvark\n"
     ]
    }
   ],
   "source": [
    "#Write an if/else statement that returns only objects that start with \"a\"\n",
    "for x in animals:\n",
    "    if x.startswith(\"a\"):\n",
    "        print(x)\n",
    "    else:\n",
    "        pass\n"
   ]
  },
  {
   "cell_type": "code",
   "execution_count": 5,
   "metadata": {
    "ExecuteTime": {
     "end_time": "2019-01-09T23:23:34.548632Z",
     "start_time": "2019-01-09T23:23:34.544622Z"
    }
   },
   "outputs": [
    {
     "name": "stdout",
     "output_type": "stream",
     "text": [
      "aardvark\n"
     ]
    }
   ],
   "source": [
    "#OR\n",
    "for x in animals:\n",
    "    if x[0] == \"a\":\n",
    "        print(x)\n",
    "    else:\n",
    "        pass"
   ]
  },
  {
   "cell_type": "code",
   "execution_count": 6,
   "metadata": {
    "ExecuteTime": {
     "end_time": "2019-01-09T23:23:34.557857Z",
     "start_time": "2019-01-09T23:23:34.551641Z"
    }
   },
   "outputs": [
    {
     "name": "stdout",
     "output_type": "stream",
     "text": [
      "aardvark\n",
      "turtle\n",
      "gerbil\n"
     ]
    }
   ],
   "source": [
    "'''\n",
    "Write an if/elif/else statement that returns only objects that start with A\n",
    "OR has an even number of letters.\n",
    "'''\n",
    "for x in animals:\n",
    "    if x.startswith(\"a\"):\n",
    "        print(x)\n",
    "    elif len(x)%2 == 0:\n",
    "        print(x)\n",
    "    else:\n",
    "        pass\n",
    "        "
   ]
  },
  {
   "cell_type": "code",
   "execution_count": 7,
   "metadata": {
    "ExecuteTime": {
     "end_time": "2019-01-09T23:23:34.566841Z",
     "start_time": "2019-01-09T23:23:34.561828Z"
    }
   },
   "outputs": [
    {
     "name": "stdout",
     "output_type": "stream",
     "text": [
      "cat\n"
     ]
    }
   ],
   "source": [
    "'''\n",
    "Write a control flow that returns only animals that have \"C\" somewhere\n",
    "in their name. \n",
    "'''\n",
    "for x in animals:\n",
    "    if \"c\" in x.lower():\n",
    "        print(x)\n",
    "    else:\n",
    "        pass"
   ]
  },
  {
   "cell_type": "code",
   "execution_count": 8,
   "metadata": {
    "ExecuteTime": {
     "end_time": "2019-01-09T23:23:34.574863Z",
     "start_time": "2019-01-09T23:23:34.569849Z"
    }
   },
   "outputs": [],
   "source": [
    "#Create a function from the last control flow that you could use on any list\n",
    "\n",
    "#I've started it for you...\n",
    "def AnimalFinder(x):\n",
    "    for obj in x:\n",
    "        if \"c\" in obj.lower():\n",
    "            print(obj)\n",
    "        else:\n",
    "            pass\n",
    "        "
   ]
  },
  {
   "cell_type": "code",
   "execution_count": 9,
   "metadata": {
    "ExecuteTime": {
     "end_time": "2019-01-09T23:23:34.589121Z",
     "start_time": "2019-01-09T23:23:34.584888Z"
    }
   },
   "outputs": [],
   "source": [
    "animals2 = [\"banana\", \"chicken\", \"ball\", \"computer\"]"
   ]
  },
  {
   "cell_type": "code",
   "execution_count": 10,
   "metadata": {
    "ExecuteTime": {
     "end_time": "2019-01-09T23:23:34.601567Z",
     "start_time": "2019-01-09T23:23:34.596921Z"
    }
   },
   "outputs": [
    {
     "name": "stdout",
     "output_type": "stream",
     "text": [
      "chicken\n",
      "computer\n"
     ]
    }
   ],
   "source": [
    "AnimalFinder(animals2)"
   ]
  },
  {
   "cell_type": "code",
   "execution_count": 11,
   "metadata": {
    "ExecuteTime": {
     "end_time": "2019-01-09T23:25:35.136138Z",
     "start_time": "2019-01-09T23:25:35.130960Z"
    }
   },
   "outputs": [],
   "source": [
    "def CoolThing(x, char):\n",
    "    for obj in x:\n",
    "        if char in obj.lower():\n",
    "            print(obj)\n",
    "        else:\n",
    "            pass"
   ]
  },
  {
   "cell_type": "code",
   "execution_count": 13,
   "metadata": {
    "ExecuteTime": {
     "end_time": "2019-01-09T23:25:58.765651Z",
     "start_time": "2019-01-09T23:25:58.760729Z"
    }
   },
   "outputs": [
    {
     "name": "stdout",
     "output_type": "stream",
     "text": [
      "computer\n"
     ]
    }
   ],
   "source": [
    "CoolThing(animals2, \"p\")"
   ]
  },
  {
   "cell_type": "code",
   "execution_count": null,
   "metadata": {},
   "outputs": [],
   "source": []
  }
 ],
 "metadata": {
  "kernelspec": {
   "display_name": "Python 3",
   "language": "python",
   "name": "python3"
  },
  "language_info": {
   "codemirror_mode": {
    "name": "ipython",
    "version": 3
   },
   "file_extension": ".py",
   "mimetype": "text/x-python",
   "name": "python",
   "nbconvert_exporter": "python",
   "pygments_lexer": "ipython3",
   "version": "3.7.3"
  }
 },
 "nbformat": 4,
 "nbformat_minor": 2
}
